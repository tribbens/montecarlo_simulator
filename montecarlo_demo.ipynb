{
 "cells": [
  {
   "cell_type": "markdown",
   "id": "45762487-d33f-486d-8e38-2cdea04e3528",
   "metadata": {},
   "source": [
    "# Final Project Report\n",
    "\n",
    "* Class: DS 5100\n",
    "* Student Name: Trenton Ribbens\n",
    "* Student Net ID: kvu2et\n",
    "* This URL: https://github.com/tribbens/kvu2et_ds5100_montecarlo/blob/main/montecarlo_demo.ipynb"
   ]
  },
  {
   "cell_type": "markdown",
   "id": "acf756c1-ecaa-41dc-b6ca-d566eb94560b",
   "metadata": {},
   "source": [
    "# Instructions\n",
    "\n",
    "Follow the instructions in the [Final Project](https://ontoligent.github.io/DS5100-2023-07-R/notebooks/M00_FinalProject/FinalProjectInstructions.html) isntructions and put your work in this notebook.\n",
    "\n",
    "Total points for each subsection under **Deliverables** and **Scenarios** are given in parentheses.\n",
    "\n",
    "Breakdowns of points within subsections are specified within subsection instructions as bulleted lists.\n",
    "\n",
    "This project is worth **50 points**."
   ]
  },
  {
   "cell_type": "markdown",
   "id": "89dc7a32-f682-4402-8c1e-b6ccdb3e0e39",
   "metadata": {},
   "source": [
    "# Deliverables"
   ]
  },
  {
   "cell_type": "markdown",
   "id": "d32cb273-9a40-4909-a7ce-51f6e4958d3c",
   "metadata": {},
   "source": [
    "## The Monte Carlo Module (10)\n",
    "\n",
    "- URL included, appropriately named (1).\n",
    "- Includes all three specified classes (3).\n",
    "- Includes at least all 12 specified methods (6; .5 each)."
   ]
  },
  {
   "cell_type": "markdown",
   "id": "f5f3b070-de9e-4de9-bfae-8974d184aa28",
   "metadata": {},
   "source": [
    "Put the URL to your GitHub repo here.\n",
    "\n",
    "Repo URL: https://github.com/tribbens/kvu2et_ds5100_montecarlo"
   ]
  },
  {
   "cell_type": "markdown",
   "id": "162370fb-3729-4c85-b040-8c25b2c966d2",
   "metadata": {},
   "source": [
    "Paste a copy of your module here.\n",
    "\n",
    "NOTE: Paste as text, not as code. Use triple backticks to wrap your code blocks."
   ]
  },
  {
   "cell_type": "markdown",
   "id": "80506793-b633-427b-8c8a-c64845a71735",
   "metadata": {},
   "source": [
    "```python\n",
    "import pandas as pd\n",
    "import numpy as np\n",
    "import random\n",
    "from itertools import product\n",
    "from itertools import combinations_with_replacement\n",
    "\n",
    "class Die():\n",
    "    '''\n",
    "    PURPOSE:  To allow the user to create a Die object with N sides or faces and W weights.\n",
    "    The weights default to 1.0 and can be customized to fit the user's needs.\n",
    "    The only behavior is for it to be rolled one or more times.\n",
    "    '''\n",
    "    \n",
    "    def __init__(self, faces):\n",
    "        '''\n",
    "        PURPOSE:  Create the initial die using the faces passed to the function and set all weights equal to 1.\n",
    "        \n",
    "        INPUTS:\n",
    "        faces  numpy array (of strings or integers)\n",
    "        \n",
    "        OUTPUTS:\n",
    "        None  internally saves die with faces and weights in private dataframe\n",
    "        '''\n",
    "        \n",
    "        #raise TypeError of faces argument is not a NumPy array\n",
    "        if type(faces) != np.ndarray:\n",
    "            raise TypeError(\"faces argument must be a NumPy array\")\n",
    "        \n",
    "        #confirm array values are distinct\n",
    "        if len(faces) != len(np.unique(faces)):\n",
    "            raise ValueError(\"Face values must be distinct!\")\n",
    "        \n",
    "        faces = pd.Series(faces)\n",
    "        self.faces = list(faces)\n",
    "        W = []\n",
    "        for i in range(len(faces)):\n",
    "            W.append(1.0)\n",
    "        die_priv_df = pd.DataFrame(W)\n",
    "        die_priv_df = die_priv_df.set_index(faces)\n",
    "        #save current die faces and weights as private data frame\n",
    "        self._die_status = die_priv_df\n",
    "        \n",
    "    def weight_change(self, face_value, new_weight):\n",
    "        '''\n",
    "        PURPOSE:  Change the weight of one side of the die to the value passed to the function.\n",
    "        \n",
    "        INPUTS:  \n",
    "        face_value  str or int (depending on how the initial die was setup)\n",
    "        new_weight  int or float\n",
    "        \n",
    "        OUTPUTS:\n",
    "        None  Internally revises the weight of one face in the private dataframe.\n",
    "        '''\n",
    "        \n",
    "        #confirm face value is one of the faces and raise IndexError if not\n",
    "        if face_value not in self.faces:\n",
    "            raise IndexError(\"Not a valid face value\")\n",
    "            \n",
    "        #raise TypeError for invalid weight\n",
    "        if (type(new_weight) != float) and (type(new_weight) != int):\n",
    "            try:\n",
    "                float(new_weight)\n",
    "            except:\n",
    "                raise TypeError(\"The new weight must be a numeric value\")\n",
    "        \n",
    "        #change weight of indicated face value\n",
    "        self._die_status[0][face_value] = new_weight\n",
    "        \n",
    "    def roll_die(self, num_rolls=1):\n",
    "        '''\n",
    "        PURPOSE:  Roll the die the specified number of times and return the outcomes as a list.\n",
    "        \n",
    "        INPUTS:\n",
    "        num_rolls  int, default=1\n",
    "        \n",
    "        OUTPUTS:\n",
    "        roll_outcomes  list (of face values as int or str)\n",
    "        '''\n",
    "        #initiate blank list for outcome\n",
    "        roll_outcomes = []\n",
    "        #convert current weights to a list\n",
    "        weights_list = self._die_status[0].tolist()\n",
    "        #run selection desired number of times\n",
    "        for i in range(num_rolls):\n",
    "            roll_outcomes.append(random.choices(self.faces, weights_list)[0])\n",
    "        \n",
    "        return roll_outcomes\n",
    "    \n",
    "    def view_die(self):\n",
    "        '''\n",
    "        PURPOSE:  The view the current faces and weights of the die as a dataframe.\n",
    "        \n",
    "        INPUTS:\n",
    "        None\n",
    "        \n",
    "        OUTPUTS:\n",
    "        _die_status  pandas data frame\n",
    "        '''\n",
    "                \n",
    "        return self._die_status\n",
    "\n",
    "#-----------------------------------------------------------------------------------------------------------------------\n",
    "#-----------------------------------------------------------------------------------------------------------------------\n",
    "\n",
    "class Game():\n",
    "    '''\n",
    "    PURPOSE:  To allow the user to create a game which consists of rolling one or more\n",
    "    similar dice (Die objects) one or more times. Similar dice means that each die\n",
    "    has the same number of sides and associated faces, but my have thier own weights.\n",
    "    Game objects have a behavior to play a game, which consists of rolling all dice a given\n",
    "    number of times. Game objects only keep the results of the most recent play.\n",
    "    '''\n",
    "    \n",
    "    def __init__(self, current_die):\n",
    "        '''\n",
    "        PURPOSE:  Create a game object based on a list of Die objects being used.\n",
    "        \n",
    "        INPUTS:\n",
    "        current_die  list (of Die objects)\n",
    "        \n",
    "        OUTPUTS:\n",
    "        None  Saves the list of current die as an attribute.\n",
    "        '''\n",
    "        \n",
    "        self.current_die = current_die\n",
    "        \n",
    "    def play_game(self, num_times):\n",
    "        '''\n",
    "        PURPOSE:  Play a game which involves rolling all die the specified number of times and internally recording the results.\n",
    "        \n",
    "        INPUTS:\n",
    "        num_times  int\n",
    "        \n",
    "        OUTPUTS:\n",
    "        None  Internally saves the results of all rolls for all die in a private data frame.\n",
    "        '''\n",
    "        \n",
    "        #initiate blank dataframe\n",
    "        game_results = pd.DataFrame()\n",
    "        \n",
    "        #set column index count to zero\n",
    "        i = 0\n",
    "        \n",
    "        for dice in self.current_die:\n",
    "            #run roll_die method\n",
    "            roll_results = dice.roll_die(num_rolls=num_times)\n",
    "            #save results to dictionary with list index as key\n",
    "            new_result = {i: roll_results}\n",
    "            #convert to a dataframe\n",
    "            new_result_df = pd.DataFrame(new_result)\n",
    "            #add the new column to the data frame\n",
    "            game_results = pd.concat([game_results, new_result_df], axis=1)\n",
    "            #add 1 to list index\n",
    "            i += 1\n",
    "                \n",
    "        #create list of rolls\n",
    "        rolls = []\n",
    "        for i in range(1, num_times+1):\n",
    "            rolls.append(i)\n",
    "        rolls = pd.Series(rolls)\n",
    "        #rename index and set values to roll number\n",
    "        game_results = game_results.set_index(rolls)\n",
    "        game_results.index.name = \"Roll Number\"\n",
    "\n",
    "        #most recent results saved as a private data frame\n",
    "        self._game_results = game_results\n",
    "        \n",
    "        \n",
    "    def recent_results(self, wide=True):\n",
    "        '''\n",
    "        PURPOSE:  Obtain the results of the most recent game played from play_game method.\n",
    "        The results can be in a wide data frame or narrow data frame based on value passed to variable \"wide\".\n",
    "        \n",
    "        INPUTS:\n",
    "        wide  bool, default=True\n",
    "        \n",
    "        OUTPUTS:\n",
    "        _game_results  pandas data frame\n",
    "        '''\n",
    "        \n",
    "        #Raise ValueError if bool isn't passed as value for wide\n",
    "        if type(wide) != bool:\n",
    "            raise ValueError(\"Value for wide must be True or False\")\n",
    "            \n",
    "        elif wide:\n",
    "            return self._game_results\n",
    "        \n",
    "        else:          \n",
    "            return self._game_results.unstack().to_frame().swaplevel()\n",
    "    \n",
    "    def get_faces(self):\n",
    "        '''\n",
    "        PURPOSE:  Obtain the list of face options for the die currently being used in the game.\n",
    "        This method assumes that all die have the same face options. It will be used in the Analyzer class.\n",
    "        \n",
    "        INPUTS:\n",
    "        None\n",
    "        \n",
    "        OUTPUTS:\n",
    "        face_options  list (of strings or integers)\n",
    "        '''\n",
    "        \n",
    "        #this will be used in Analyzer class so I know the face options\n",
    "        face_options = self.current_die[0].view_die().index.to_list()\n",
    "        return face_options\n",
    "    \n",
    "    def get_dice_count(self):\n",
    "        '''\n",
    "        PURPOSE:  Obtain the number of die currently being used in the game.\n",
    "        It will be used in the Analyzer class.\n",
    "        \n",
    "        INPUTS:\n",
    "        None\n",
    "        \n",
    "        OUTPUTS:\n",
    "        num_die_in_play  int\n",
    "        '''\n",
    "        \n",
    "        #this will be used in the Analyzer class so I know the number of dice in play\n",
    "        num_die_in_play = len(self.current_die)\n",
    "        return num_die_in_play\n",
    "\n",
    "\n",
    "#-------------------------------------------------------------------------------------------------------------------------\n",
    "#-------------------------------------------------------------------------------------------------------------------------\n",
    "\n",
    "\n",
    "class Analyzer():\n",
    "    '''\n",
    "    PURPOSE:  An Analyzer object takes the results of a single game (Game object)\n",
    "    and computes various descriptive statistical properties about it.\n",
    "    '''\n",
    "        \n",
    "    def __init__(self, input_game):\n",
    "        '''\n",
    "        PURPOSE:  To create an Analyzer object using an input of a Game object.\n",
    "        Assigns game input to attribute \"game\".\n",
    "        \n",
    "        INPUTS:\n",
    "        input_game  Game object\n",
    "        \n",
    "        OUTPUT:\n",
    "        None  assigns variable input_game to game attribute\n",
    "        '''\n",
    "        \n",
    "        if type(input_game) != Game:\n",
    "            raise ValueError(\"Input must be a Game object\")\n",
    "        \n",
    "        self.game = input_game\n",
    "        \n",
    "    \n",
    "    def jackpot(self):\n",
    "        '''\n",
    "        PURPOSE:  To compute the number of times the game resulted in a jackpot.\n",
    "        \n",
    "        INPUTS:\n",
    "        None\n",
    "        \n",
    "        OUTPUTS:\n",
    "        num_jackpots  int\n",
    "        '''\n",
    "        \n",
    "        #save recent game results as variable\n",
    "        game_results = self.game.recent_results()\n",
    "        \n",
    "        #set jackpot count to 0\n",
    "        num_jackpots = 0\n",
    "        \n",
    "        #iterate through the rows\n",
    "        for i in range(1, len(self.game.recent_results())+1):\n",
    "            if len(game_results.loc[i].unique()) == 1:\n",
    "                num_jackpots += 1\n",
    "            else:\n",
    "                pass\n",
    "        \n",
    "        return num_jackpots\n",
    "    \n",
    "    def face_counts_per_roll(self):\n",
    "        '''\n",
    "        PURPOSE:  Computes the number of times a given face is rolled in each event and\n",
    "        returns a data frame of the results.\n",
    "        \n",
    "        INPUTS:\n",
    "        None\n",
    "        \n",
    "        OUTPUTS:\n",
    "        count_df  pandas data frame\n",
    "        '''\n",
    "        \n",
    "        game_results = self.game.recent_results()\n",
    "        \n",
    "        #create blank dictionary\n",
    "        count_dict = {i: [] for i in self.game.get_faces()}\n",
    "        \n",
    "        # iterate through the rows and append the count of each face\n",
    "        for i in range(1, len(self.game.recent_results())+1):\n",
    "            row = list(game_results.loc[i])\n",
    "            for x in self.game.get_faces():\n",
    "                count_dict[x].append(row.count(x))\n",
    "        \n",
    "        #turn the dictionary of counts into a data frame\n",
    "        count_df = pd.DataFrame(count_dict)\n",
    "                                     \n",
    "        return count_df\n",
    "                                     \n",
    "    \n",
    "    def combo_count(self):\n",
    "        '''\n",
    "        PURPOSE:  Computes the distinct combinations of faces rolled and their counts.\n",
    "        It returns the results as a data frame.\n",
    "        \n",
    "        INPUTS:\n",
    "        None\n",
    "        \n",
    "        OUTPUTS:\n",
    "        combo_df  pandas data frame\n",
    "        '''\n",
    "        \n",
    "        #save recent game results as variable\n",
    "        game_results = self.game.recent_results()\n",
    "        \n",
    "        #generate all combinations based on faces and number of die\n",
    "        combs = combinations_with_replacement(self.game.get_faces(), self.game.get_dice_count())\n",
    "        \n",
    "        #create blank dataframe using the combinations as the index (as a string)\n",
    "        data = {'Combination': [str(list(i)) for i in list(combs)]}\n",
    "        combo_df = pd.DataFrame(data)\n",
    "        combo_df.index = combo_df['Combination']\n",
    "        combo_df['Count'] = 0\n",
    "        combo_df = combo_df['Count'].to_frame()\n",
    "        \n",
    "        # iterate through the rows and increase the count for each combination rolled\n",
    "        for i in range(1, len(self.game.recent_results())+1):\n",
    "            row = str(sorted(list(game_results.loc[i])))\n",
    "            combo_df.loc[row][0] = combo_df.loc[row][0] + 1\n",
    "        \n",
    "        #remove rows with a count of 0\n",
    "        combo_df = combo_df[combo_df['Count'] > 0]\n",
    "        \n",
    "        return combo_df\n",
    "            \n",
    "    def permutation_count(self):\n",
    "        '''\n",
    "        PURPOSE:  Computes the distinct permutations of faces rolled and their counts.\n",
    "        It returns a data frame of the results.\n",
    "        \n",
    "        INPUTS:\n",
    "        None\n",
    "        \n",
    "        OUTPUTS:\n",
    "        perm_df  pandas data frame\n",
    "        '''\n",
    "        \n",
    "        #save recent game results as variable\n",
    "        game_results = self.game.recent_results()\n",
    "        \n",
    "        #generate all permutations based on faces and number of die\n",
    "        perms = product(self.game.get_faces(), repeat=self.game.get_dice_count())\n",
    "        \n",
    "        #create blank dataframe using the combinations as the index (as a string)\n",
    "        data = {'Permutation': [str(list(i)) for i in list(perms)]}\n",
    "        perm_df = pd.DataFrame(data)\n",
    "        perm_df.index = perm_df['Permutation']\n",
    "        perm_df['Count'] = 0\n",
    "        perm_df = perm_df['Count'].to_frame()\n",
    "        \n",
    "        # iterate through the rows and increase the count for each permutation rolled\n",
    "        for i in range(1, len(self.game.recent_results())+1):\n",
    "            row = str(sorted(list(game_results.loc[i])))\n",
    "            perm_df.loc[row][0] = perm_df.loc[row][0] + 1\n",
    "            \n",
    "        #remove rows with a count of 0\n",
    "        perm_df = perm_df[perm_df['Count'] > 0]\n",
    "        \n",
    "        return perm_df\n",
    "```"
   ]
  },
  {
   "cell_type": "markdown",
   "id": "6377727a-8f0a-491e-9f1c-d9dc225edd35",
   "metadata": {},
   "source": [
    "## Unitest Module (2)\n",
    "\n",
    "Paste a copy of your test module below.\n",
    "\n",
    "NOTE: Paste as text, not as code. Use triple backticks to wrap your code blocks.\n",
    "\n",
    "- All methods have at least one test method (1).\n",
    "- Each method employs one of Unittest's Assert methods (1)."
   ]
  },
  {
   "cell_type": "markdown",
   "id": "686aae24-86e7-4aeb-859b-20a3e9e11183",
   "metadata": {},
   "source": [
    "```python\n",
    "import unittest\n",
    "from montecarlo.montecarlo import Die\n",
    "from montecarlo.montecarlo import Game\n",
    "from montecarlo.montecarlo import Analyzer\n",
    "import pandas as pd\n",
    "import numpy as np\n",
    "\n",
    "class MonteCarloTestSuite(unittest.TestCase):\n",
    "    \n",
    "    def test_1_init(self):\n",
    "        die2 = Die(np.array([1, 2, 3, 4, 5, 6]))\n",
    "        testing = type(die2) == Die\n",
    "        message = \"Dice setup not working correctly\"\n",
    "        \n",
    "        self.assertTrue(testing, message)\n",
    "        \n",
    "    def test_2_weight_change(self):\n",
    "        die1 = Die(np.array([1, 2, 3, 4, 5, 6]))\n",
    "        state1 = sum(die1.view_die()[0])\n",
    "        die1.weight_change(1, 5)\n",
    "        state2 = sum(die1.view_die()[0])\n",
    "\n",
    "        status = state1 == state2\n",
    "        message = \"Changing weight not working correctly\"\n",
    "        \n",
    "        self.assertFalse(status, message)\n",
    "        \n",
    "    def test_3_roll_die(self):\n",
    "        die1 = Die(np.array([1, 2, 3, 4, 5, 6]))\n",
    "        status = type(die1.roll_die(10))\n",
    "        type1 = list\n",
    "        message = \"roll_die method not working correctly\"\n",
    "        \n",
    "        self.assertEqual(status, type1, message)\n",
    "        \n",
    "    def test_4_view_die(self):\n",
    "        die1 = Die(np.array([1, 2, 3, 4, 5, 6]))\n",
    "        status = type(die1.view_die())\n",
    "        type1 = pd.DataFrame\n",
    "        message = \"view_die not returning a pandas data frame\"\n",
    "        \n",
    "        self.assertEqual(status, type1, message)\n",
    "        \n",
    "    def test_5_init(self):\n",
    "        die1 = Die(np.array([1, 2, 3, 4, 5, 6]))\n",
    "        game2 = Game([die1, die1, die1])\n",
    "        \n",
    "        testing = type(game2) == Game\n",
    "        message = \"Game setup not working correctly\"\n",
    "        \n",
    "        self.assertTrue(testing, message)\n",
    "        \n",
    "    def test_6_play_game(self):\n",
    "        die1 = Die(np.array([1, 2, 3, 4, 5, 6]))\n",
    "        game1 = Game([die1, die1, die1])\n",
    "        game1.play_game(100)\n",
    "        \n",
    "        testing = len(game1.recent_results()) == 100\n",
    "        message = \"play_game not working correctly\"\n",
    "        \n",
    "        self.assertTrue(testing, message)\n",
    "    \n",
    "    def test_7_recent_results(self):\n",
    "        die1 = Die(np.array([1, 2, 3, 4, 5, 6]))\n",
    "        game1 = Game([die1, die1, die1])\n",
    "        game1.play_game(100)\n",
    "        \n",
    "        testing = type(game1.recent_results()) == pd.DataFrame\n",
    "        message = \"recent_results not working correctly\"\n",
    "        \n",
    "        self.assertTrue(testing, message)\n",
    "        \n",
    "    def test_8_init(self):\n",
    "        die1 = Die(np.array([1, 2, 3, 4, 5, 6]))\n",
    "        game1 = Game([die1, die1, die1])\n",
    "        game1.play_game(100)\n",
    "        analyzer2 = Analyzer(game1)\n",
    "        \n",
    "        testing = type(analyzer2) == Analyzer\n",
    "        message = \"Analyzer setup not working correctly\"\n",
    "        \n",
    "        self.assertTrue(testing, message)\n",
    "        \n",
    "    def test_9_jackpot(self):\n",
    "        die1 = Die(np.array([1, 2, 3, 4, 5, 6]))\n",
    "        game1 = Game([die1, die1, die1])\n",
    "        game1.play_game(100)\n",
    "        analyzer1 = Analyzer(game1)\n",
    "        \n",
    "        testing = type(analyzer1.jackpot()) == int\n",
    "        message = \"jackpot method not working correctly\"\n",
    "        \n",
    "        self.assertTrue(testing, message)\n",
    "        \n",
    "    def test_10_face_counts_per_roll(self):\n",
    "        die1 = Die(np.array([1, 2, 3, 4, 5, 6]))\n",
    "        game1 = Game([die1, die1, die1])\n",
    "        game1.play_game(100)\n",
    "        analyzer1 = Analyzer(game1)\n",
    "        \n",
    "        testing = type(analyzer1.face_counts_per_roll()) == pd.DataFrame\n",
    "        message = \"face_counts_per_roll not working correctly\"\n",
    "        \n",
    "        self.assertTrue(testing, message)\n",
    "        \n",
    "    def test_11_combo_count(self):\n",
    "        die1 = Die(np.array([1, 2, 3, 4, 5, 6]))\n",
    "        game1 = Game([die1, die1, die1])\n",
    "        game1.play_game(100)\n",
    "        analyzer1 = Analyzer(game1)\n",
    "        \n",
    "        testing = type(analyzer1.combo_count()) == pd.DataFrame\n",
    "        message = \"combo_count not working correctly\"\n",
    "        \n",
    "        self.assertTrue(testing, message)\n",
    "        \n",
    "    def test_12_permutation_count(self):\n",
    "        die1 = Die(np.array([1, 2, 3, 4, 5, 6]))\n",
    "        game1 = Game([die1, die1, die1])\n",
    "        game1.play_game(100)\n",
    "        analyzer1 = Analyzer(game1)\n",
    "        \n",
    "        testing = type(analyzer1.permutation_count()) == pd.DataFrame\n",
    "        message = \"permutation_count not working correctly\"\n",
    "        \n",
    "        self.assertTrue(testing, message)\n",
    "        \n",
    "        \n",
    "if __name__ == '__main__':\n",
    "    \n",
    "    unittest.main(verbosity=3)\n",
    "```"
   ]
  },
  {
   "cell_type": "markdown",
   "id": "3e058d03-29bc-408f-b36d-0605b4f4b8c0",
   "metadata": {
    "tags": []
   },
   "source": [
    "## Unittest Results (3)\n",
    "\n",
    "Put a copy of the results of running your tests from the command line here.\n",
    "\n",
    "Again, paste as text using triple backticks.\n",
    "\n",
    "- All 12 specified methods return OK (3; .25 each)."
   ]
  },
  {
   "cell_type": "markdown",
   "id": "20fc996f-45bd-4e33-81e8-1a3dcdb48fe0",
   "metadata": {
    "tags": []
   },
   "source": [
    "```bash\n",
    "bash-4.4$python montecarlo_test.py\n",
    "test_10_face_counts_per_roll (__main__.MonteCarloTestSuite.test_10_face_counts_per_roll) ... ok\n",
    "test_11_combo_count (__main__.MonteCarloTestSuite.test_11_combo_count) ... ok\n",
    "test_12_permutation_count (__main__.MonteCarloTestSuite.test_12_permutation_count) ... ok\n",
    "test_1_init (__main__.MonteCarloTestSuite.test_1_init) ... ok\n",
    "test_2_weight_change (__main__.MonteCarloTestSuite.test_2_weight_change) ... ok\n",
    "test_3_roll_die (__main__.MonteCarloTestSuite.test_3_roll_die) ... ok\n",
    "test_4_view_die (__main__.MonteCarloTestSuite.test_4_view_die) ... ok\n",
    "test_5_init (__main__.MonteCarloTestSuite.test_5_init) ... ok\n",
    "test_6_play_game (__main__.MonteCarloTestSuite.test_6_play_game) ... ok\n",
    "test_7_recent_results (__main__.MonteCarloTestSuite.test_7_recent_results) ... ok\n",
    "test_8_init (__main__.MonteCarloTestSuite.test_8_init) ... ok\n",
    "test_9_jackpot (__main__.MonteCarloTestSuite.test_9_jackpot) ... ok\n",
    "----------------------------------------------------------------------\n",
    "Ran 12 tests in 0.064s\n",
    "OK\n",
    "```"
   ]
  },
  {
   "cell_type": "markdown",
   "id": "d9ffe8c5-eb2f-4ad1-af76-a46550e4c7ac",
   "metadata": {},
   "source": [
    "## Import (1)\n",
    "\n",
    "Import your module here. This import should refer to the code in your package directory.\n",
    "\n",
    "- Module successuflly imported (1)."
   ]
  },
  {
   "cell_type": "code",
   "execution_count": 48,
   "id": "a05dffb3-e6d6-4f78-9df4-5abd0cf74ca9",
   "metadata": {
    "tags": []
   },
   "outputs": [],
   "source": [
    "import montecarlo.montecarlo as montecarlo"
   ]
  },
  {
   "cell_type": "markdown",
   "id": "f30c4842-65b1-4556-98b6-3fe1a07e1371",
   "metadata": {},
   "source": [
    "## Help Docs (4)\n",
    "\n",
    "Show your docstring documentation by applying `help()` to your imported module.\n",
    "\n",
    "- All methods have a docstring (3; .25 each).\n",
    "- All classes have a docstring (1; .33 each)."
   ]
  },
  {
   "cell_type": "code",
   "execution_count": 49,
   "id": "bf4fbf1f-9885-471c-a0a6-e9ca90e160de",
   "metadata": {
    "tags": []
   },
   "outputs": [
    {
     "name": "stdout",
     "output_type": "stream",
     "text": [
      "Help on module montecarlo.montecarlo in montecarlo:\n",
      "\n",
      "NAME\n",
      "    montecarlo.montecarlo\n",
      "\n",
      "CLASSES\n",
      "    builtins.object\n",
      "        Analyzer\n",
      "        Die\n",
      "        Game\n",
      "    \n",
      "    class Analyzer(builtins.object)\n",
      "     |  Analyzer(input_game)\n",
      "     |  \n",
      "     |  Methods defined here:\n",
      "     |  \n",
      "     |  __init__(self, input_game)\n",
      "     |      Initialize self.  See help(type(self)) for accurate signature.\n",
      "     |  \n",
      "     |  combo_count(self)\n",
      "     |      docstring\n",
      "     |  \n",
      "     |  face_counts_per_roll(self)\n",
      "     |  \n",
      "     |  jackpot(self)\n",
      "     |  \n",
      "     |  permutation_count(self)\n",
      "     |      docstring\n",
      "     |  \n",
      "     |  ----------------------------------------------------------------------\n",
      "     |  Data descriptors defined here:\n",
      "     |  \n",
      "     |  __dict__\n",
      "     |      dictionary for instance variables (if defined)\n",
      "     |  \n",
      "     |  __weakref__\n",
      "     |      list of weak references to the object (if defined)\n",
      "    \n",
      "    class Die(builtins.object)\n",
      "     |  Die(faces)\n",
      "     |  \n",
      "     |  PURPOSE:  To allow the user to create a Die object with faces as strings or integers\n",
      "     |  and revise the weights according to their needs. The class also allows the user\n",
      "     |  to roll the die and receive the results of the rolls. The user can view the current\n",
      "     |  state of the die at any time.\n",
      "     |  \n",
      "     |  INPUTS:\n",
      "     |  faces  numpy array (of strings or integers)\n",
      "     |  \n",
      "     |  OUTPUTS:\n",
      "     |  None\n",
      "     |  \n",
      "     |  Methods defined here:\n",
      "     |  \n",
      "     |  __init__(self, faces)\n",
      "     |      PURPOSE:  Create the initial die using the faces passed to the function and set all weights equal to 1.\n",
      "     |      \n",
      "     |      INPUTS:\n",
      "     |      faces  numpy array (of strings or integers)\n",
      "     |      \n",
      "     |      OUTPUTS:\n",
      "     |      None  internally saves die with faces and weights in private dataframe\n",
      "     |  \n",
      "     |  roll_die(self, num_rolls=1)\n",
      "     |      PURPOSE:  Roll the die the specified number of times and return the outcomes as a list.\n",
      "     |      \n",
      "     |      INPUTS:\n",
      "     |      num_rolls  int (defaults to 1)\n",
      "     |      \n",
      "     |      OUTPUTS:\n",
      "     |      roll_outcomes  list (of face values as int or str)\n",
      "     |  \n",
      "     |  view_die(self)\n",
      "     |      PURPOSE:  The view the current faces and weights of the die as a dataframe.\n",
      "     |      \n",
      "     |      INPUTS:\n",
      "     |      None\n",
      "     |      \n",
      "     |      OUTPUTS:\n",
      "     |      _die_status  dataframe\n",
      "     |  \n",
      "     |  weight_change(self, face_value, new_weight)\n",
      "     |      PURPOSE:  Change the weight of one side of the die to the value passed to the function.\n",
      "     |      \n",
      "     |      INPUTS:  \n",
      "     |      face_value  str or int (depending on how the initial die was setup)\n",
      "     |      new_weight  int or float\n",
      "     |      \n",
      "     |      OUTPUTS:\n",
      "     |      None  Internally revises the weight of one face in the private dataframe.\n",
      "     |  \n",
      "     |  ----------------------------------------------------------------------\n",
      "     |  Data descriptors defined here:\n",
      "     |  \n",
      "     |  __dict__\n",
      "     |      dictionary for instance variables (if defined)\n",
      "     |  \n",
      "     |  __weakref__\n",
      "     |      list of weak references to the object (if defined)\n",
      "    \n",
      "    class Game(builtins.object)\n",
      "     |  Game(current_die)\n",
      "     |  \n",
      "     |  Methods defined here:\n",
      "     |  \n",
      "     |  __init__(self, current_die)\n",
      "     |      PURPOSE:  Create a game object based on a list of Die objects being used.\n",
      "     |      \n",
      "     |      INPUTS:\n",
      "     |      current_die  list (of Die objects)\n",
      "     |      \n",
      "     |      OUTPUTS:\n",
      "     |      None  Saves the list of current die as an attribute.\n",
      "     |  \n",
      "     |  get_dice_count(self)\n",
      "     |      PURPOSE:  Obtain the number of die currently being used in the game.\n",
      "     |      It will be used in the Analyzer class.\n",
      "     |      \n",
      "     |      INPUTS:\n",
      "     |      None\n",
      "     |      \n",
      "     |      OUTPUTS:\n",
      "     |      num_die_in_play  int\n",
      "     |  \n",
      "     |  get_faces(self)\n",
      "     |      PURPOSE:  Obtain the list of face options for the die currently being used in the game.\n",
      "     |      This method assumes that all die have the same face options. It will be used in the Analyzer class.\n",
      "     |      \n",
      "     |      INPUTS:\n",
      "     |      None\n",
      "     |      \n",
      "     |      OUTPUTS:\n",
      "     |      face_options  list (of strings or integers)\n",
      "     |  \n",
      "     |  play_game(self, num_times)\n",
      "     |      PURPOSE:  Play a game which involves rolling all die the specified number of times and internally recording the results.\n",
      "     |      \n",
      "     |      INPUTS:\n",
      "     |      num_times  int\n",
      "     |      \n",
      "     |      OUTPUTS:\n",
      "     |      None  Internally saves the results of all rolls for all die in a private data frame.\n",
      "     |  \n",
      "     |  recent_results(self, wide=True)\n",
      "     |      PURPOSE:  Obtain the results of the most recent game played from play_game method.\n",
      "     |      The results can be in a wide data frame or narrow data frame based on value passed to variable \"wide\".\n",
      "     |      \n",
      "     |      INPUTS:\n",
      "     |      wide  bool\n",
      "     |      \n",
      "     |      OUTPUTS:\n",
      "     |      _game_results  data frame\n",
      "     |  \n",
      "     |  ----------------------------------------------------------------------\n",
      "     |  Data descriptors defined here:\n",
      "     |  \n",
      "     |  __dict__\n",
      "     |      dictionary for instance variables (if defined)\n",
      "     |  \n",
      "     |  __weakref__\n",
      "     |      list of weak references to the object (if defined)\n",
      "\n",
      "FILE\n",
      "    /sfs/qumulo/qhome/kvu2et/Documents/MSDS/DS5100/kvu2et_ds5100_montecarlo/montecarlo/montecarlo.py\n",
      "\n",
      "\n"
     ]
    }
   ],
   "source": [
    "help(montecarlo)"
   ]
  },
  {
   "cell_type": "markdown",
   "id": "a9defa84-b395-4966-bd1c-5c6c2bb7ed68",
   "metadata": {},
   "source": [
    "## `README.md` File (3)\n",
    "\n",
    "Provide link to the README.md file of your project's repo.\n",
    "\n",
    "- Metadata section or info present (1).\n",
    "- Synopsis section showing how each class is called (1). (All must be included.)\n",
    "- API section listing all classes and methods (1). (All must be included.)"
   ]
  },
  {
   "cell_type": "markdown",
   "id": "ee090b33-d593-48a0-bf35-e739cea0942c",
   "metadata": {},
   "source": [
    "URL: https://github.com/tribbens/kvu2et_ds5100_montecarlo/blob/main/README.md"
   ]
  },
  {
   "cell_type": "markdown",
   "id": "108604c8-8827-42ef-ab59-6b25428fc0ca",
   "metadata": {},
   "source": [
    "## Successful installation (2)\n",
    "\n",
    "Put a screenshot or paste a copy of a terminal session where you successfully install your module with pip.\n",
    "\n",
    "If pasting text, use a preformatted text block to show the results.\n",
    "\n",
    "- Installed with `pip` (1).\n",
    "- Successfully installed message appears (1)."
   ]
  },
  {
   "cell_type": "markdown",
   "id": "1424d59c-2b66-4829-8d41-d22a7a639699",
   "metadata": {},
   "source": [
    "```bash\n",
    "bash-4.4$pip install .\n",
    "Defaulting to user installation because normal site-packages is not writeable\n",
    "Processing /sfs/qumulo/qhome/kvu2et/Documents/MSDS/DS5100/kvu2et_ds5100_montecarlo\n",
    "  Preparing metadata (setup.py) ... done\n",
    "Building wheels for collected packages: montecarlo\n",
    "  Building wheel for montecarlo (setup.py) ... done\n",
    "  Created wheel for montecarlo: filename=montecarlo-0.1-py3-none-any.whl size=4738 sha256=8bb4276f7da3e3c6c14b5ea983ba7d33463f4fe7908c65f38738275f4747c903\n",
    "  Stored in directory: /tmp/pip-ephem-wheel-cache-sdm6srji/wheels/33/73/e1/22d8fcff0b9a94980abf64371d6ce86dc25e581cf18410a5f0\n",
    "Successfully built montecarlo\n",
    "Installing collected packages: montecarlo\n",
    "Successfully installed montecarlo-0.1\n",
    "```"
   ]
  },
  {
   "cell_type": "markdown",
   "id": "7c44695d-d1b3-4edf-9f94-e64d7446f199",
   "metadata": {},
   "source": [
    "# Scenarios\n",
    "\n",
    "Use code blocks to perform the tasks for each scenario.\n",
    "\n",
    "Be sure the outputs are visible before submitting."
   ]
  },
  {
   "cell_type": "markdown",
   "id": "e2479eae-6fc9-44cd-b8d7-9b22cb501f2a",
   "metadata": {
    "tags": []
   },
   "source": [
    "## Scenario 1: A 2-headed Coin (9)\n",
    "\n",
    "Task 1. Create a fair coin (with faces $H$ and $T$) and one unfair coin in which one of the faces has a weight of $5$ and the others $1$.\n",
    "\n",
    "- Fair coin created (1).\n",
    "- Unfair coin created with weight as specified (1)."
   ]
  },
  {
   "cell_type": "code",
   "execution_count": 13,
   "id": "55ce498e-c75f-4425-9e3e-b635bd6cd9e1",
   "metadata": {
    "tags": []
   },
   "outputs": [],
   "source": [
    "#import classes individually to make things easier\n",
    "from montecarlo.montecarlo import Die\n",
    "from montecarlo.montecarlo import Game\n",
    "from montecarlo.montecarlo import Analyzer\n",
    "#import pandas and numpy\n",
    "import pandas as pd\n",
    "import numpy as np"
   ]
  },
  {
   "cell_type": "code",
   "execution_count": 14,
   "id": "41300909-c7ab-414f-9fd2-fd79f6abb19a",
   "metadata": {
    "tags": []
   },
   "outputs": [],
   "source": [
    "coin1 = Die(np.array(['H', 'T']))\n",
    "coin2 = Die(np.array(['H', 'T']))\n",
    "coin2.weight_change('H', 5)"
   ]
  },
  {
   "cell_type": "code",
   "execution_count": 15,
   "id": "2571d219-07ad-4a48-9406-6ac08c3598d1",
   "metadata": {
    "tags": []
   },
   "outputs": [
    {
     "data": {
      "text/html": [
       "<div>\n",
       "<style scoped>\n",
       "    .dataframe tbody tr th:only-of-type {\n",
       "        vertical-align: middle;\n",
       "    }\n",
       "\n",
       "    .dataframe tbody tr th {\n",
       "        vertical-align: top;\n",
       "    }\n",
       "\n",
       "    .dataframe thead th {\n",
       "        text-align: right;\n",
       "    }\n",
       "</style>\n",
       "<table border=\"1\" class=\"dataframe\">\n",
       "  <thead>\n",
       "    <tr style=\"text-align: right;\">\n",
       "      <th></th>\n",
       "      <th>0</th>\n",
       "    </tr>\n",
       "  </thead>\n",
       "  <tbody>\n",
       "    <tr>\n",
       "      <th>H</th>\n",
       "      <td>1.0</td>\n",
       "    </tr>\n",
       "    <tr>\n",
       "      <th>T</th>\n",
       "      <td>1.0</td>\n",
       "    </tr>\n",
       "  </tbody>\n",
       "</table>\n",
       "</div>"
      ],
      "text/plain": [
       "     0\n",
       "H  1.0\n",
       "T  1.0"
      ]
     },
     "execution_count": 15,
     "metadata": {},
     "output_type": "execute_result"
    }
   ],
   "source": [
    "#confirm they are correct\n",
    "coin1.view_die()"
   ]
  },
  {
   "cell_type": "code",
   "execution_count": 16,
   "id": "595ad8bc-2c50-4db1-9b3c-c053fd494dfa",
   "metadata": {
    "tags": []
   },
   "outputs": [
    {
     "data": {
      "text/html": [
       "<div>\n",
       "<style scoped>\n",
       "    .dataframe tbody tr th:only-of-type {\n",
       "        vertical-align: middle;\n",
       "    }\n",
       "\n",
       "    .dataframe tbody tr th {\n",
       "        vertical-align: top;\n",
       "    }\n",
       "\n",
       "    .dataframe thead th {\n",
       "        text-align: right;\n",
       "    }\n",
       "</style>\n",
       "<table border=\"1\" class=\"dataframe\">\n",
       "  <thead>\n",
       "    <tr style=\"text-align: right;\">\n",
       "      <th></th>\n",
       "      <th>0</th>\n",
       "    </tr>\n",
       "  </thead>\n",
       "  <tbody>\n",
       "    <tr>\n",
       "      <th>H</th>\n",
       "      <td>5.0</td>\n",
       "    </tr>\n",
       "    <tr>\n",
       "      <th>T</th>\n",
       "      <td>1.0</td>\n",
       "    </tr>\n",
       "  </tbody>\n",
       "</table>\n",
       "</div>"
      ],
      "text/plain": [
       "     0\n",
       "H  5.0\n",
       "T  1.0"
      ]
     },
     "execution_count": 16,
     "metadata": {},
     "output_type": "execute_result"
    }
   ],
   "source": [
    "coin2.view_die()"
   ]
  },
  {
   "cell_type": "markdown",
   "id": "02b272ab-99da-4b6e-ac2a-555b73e09c07",
   "metadata": {},
   "source": [
    "Task 2. Play a game of $1000$ flips with two fair dice.\n",
    "\n",
    "- Play method called correclty and without error (1)."
   ]
  },
  {
   "cell_type": "code",
   "execution_count": 17,
   "id": "65c92601-d32d-4326-b215-74953aee27f2",
   "metadata": {
    "tags": []
   },
   "outputs": [],
   "source": [
    "fair_game = Game([coin1, coin1])\n",
    "fair_game.play_game(1000)"
   ]
  },
  {
   "cell_type": "markdown",
   "id": "7d9c3dc8-22c1-4cae-81fb-d68d774a05d1",
   "metadata": {},
   "source": [
    "Task 3. Play another game (using a new Game object) of $1000$ flips, this time using two unfair dice and one fair die. For the second unfair die, you can use the same die object twice in the list of dice you pass to the Game object.\n",
    "\n",
    "- New game object created (1).\n",
    "- Play method called correclty and without error (1)."
   ]
  },
  {
   "cell_type": "code",
   "execution_count": 18,
   "id": "d4098bed-1eb2-4084-8d5e-9fda07c3be43",
   "metadata": {
    "tags": []
   },
   "outputs": [],
   "source": [
    "unfair_game = Game([coin2, coin1, coin1])\n",
    "unfair_game.play_game(1000)"
   ]
  },
  {
   "cell_type": "markdown",
   "id": "f690ebfc-fe71-4eb2-976d-7ac80ca6c23f",
   "metadata": {},
   "source": [
    "Task 4. For each game, use an Analyzer object to determine the raw frequency of jackpots — i.e. getting either all $H$s or all $T$s.\n",
    "\n",
    "- Analyzer objecs instantiated for both games (1).\n",
    "- Raw frequencies reported for both (1)."
   ]
  },
  {
   "cell_type": "code",
   "execution_count": 19,
   "id": "b26b8b7e-3be7-4476-a9a4-37d97536729e",
   "metadata": {
    "tags": []
   },
   "outputs": [
    {
     "data": {
      "text/plain": [
       "498"
      ]
     },
     "execution_count": 19,
     "metadata": {},
     "output_type": "execute_result"
    }
   ],
   "source": [
    "#fair coins game\n",
    "fair_analyzer = Analyzer(fair_game)\n",
    "fair_analyzer.jackpot()"
   ]
  },
  {
   "cell_type": "code",
   "execution_count": 20,
   "id": "aa10f258-fc42-4318-a9de-71e1335896cb",
   "metadata": {
    "tags": []
   },
   "outputs": [
    {
     "data": {
      "text/plain": [
       "257"
      ]
     },
     "execution_count": 20,
     "metadata": {},
     "output_type": "execute_result"
    }
   ],
   "source": [
    "#unfair coins game\n",
    "unfair_analyzer = Analyzer(unfair_game)\n",
    "unfair_analyzer.jackpot()"
   ]
  },
  {
   "cell_type": "markdown",
   "id": "b73d233c-445e-40cd-8858-0c5e1f097105",
   "metadata": {},
   "source": [
    "Task 5. For each analyzer, compute relative frequency as the number of jackpots over the total number of rolls.\n",
    "\n",
    "- Both relative frequencies computed (1)."
   ]
  },
  {
   "cell_type": "code",
   "execution_count": 22,
   "id": "9a96b31b-1b9d-496e-be3e-4bf83c45ec3a",
   "metadata": {
    "tags": []
   },
   "outputs": [
    {
     "name": "stdout",
     "output_type": "stream",
     "text": [
      "Fair Game Jackpot Frequency:  0.498\n",
      "Unfair Game Jackpot Frequency:  0.257\n"
     ]
    }
   ],
   "source": [
    "freq1 = fair_analyzer.jackpot()/1000\n",
    "print(\"Fair Game Jackpot Frequency: \", freq1)\n",
    "freq2 = unfair_analyzer.jackpot()/1000\n",
    "print(\"Unfair Game Jackpot Frequency: \", freq2)"
   ]
  },
  {
   "cell_type": "markdown",
   "id": "a6e1e734-7f5c-4721-8ba4-2f3a424cf984",
   "metadata": {},
   "source": [
    "Task 6. Show your results, comparing the two relative frequencies, in a simple bar chart.\n",
    "\n",
    "- Bar chart plotted and correct (1)."
   ]
  },
  {
   "cell_type": "code",
   "execution_count": 23,
   "id": "473fa67c-aa53-4aa3-a0b7-e8772b3f6ed3",
   "metadata": {
    "tags": []
   },
   "outputs": [
    {
     "data": {
      "image/png": "[encoded data removed]",
      "text/plain": [
       "<Figure size 640x480 with 1 Axes>"
      ]
     },
     "metadata": {},
     "output_type": "display_data"
    }
   ],
   "source": [
    "import matplotlib.pyplot as plt\n",
    "\n",
    "plt.bar([1, 2], [freq1, freq2])\n",
    "plt.xticks([1, 2], ['Fair', 'Unfair'])\n",
    "plt.show()"
   ]
  },
  {
   "cell_type": "markdown",
   "id": "725cfa5b-e4b7-47c9-86aa-8d9e1fe6c8c7",
   "metadata": {},
   "source": [
    "## Scenario 2: A 6-sided Die (9)\n",
    "\n",
    "Task 1. Create three dice, each with six sides having the faces 1 through 6.\n",
    "\n",
    "- Three die objects created (1)."
   ]
  },
  {
   "cell_type": "code",
   "execution_count": 24,
   "id": "6a8bc611-325a-4e05-88d5-980e0a2cf7c5",
   "metadata": {
    "tags": []
   },
   "outputs": [],
   "source": [
    "dice1 = Die(np.array([1, 2, 3, 4, 5, 6]))\n",
    "dice2 = Die(np.array([1, 2, 3, 4, 5, 6]))\n",
    "dice3 = Die(np.array([1, 2, 3, 4, 5, 6]))"
   ]
  },
  {
   "cell_type": "markdown",
   "id": "2ed3ad26-fbe9-43bd-9ad7-f683a4191d12",
   "metadata": {},
   "source": [
    "Task 2. Convert one of the dice to an unfair one by weighting the face $6$ five times more than the other weights (i.e. it has weight of 5 and the others a weight of 1 each).\n",
    "\n",
    "- Unfair die created with proper call to weight change method (1)."
   ]
  },
  {
   "cell_type": "code",
   "execution_count": 25,
   "id": "e33dd18f-7f90-456d-a680-61c08a328e21",
   "metadata": {
    "tags": []
   },
   "outputs": [],
   "source": [
    "dice2.weight_change(6, 5)"
   ]
  },
  {
   "cell_type": "markdown",
   "id": "7f6c062a-4c5b-45b9-96b8-76a0354c7e47",
   "metadata": {},
   "source": [
    "Task 3. Convert another of the dice to be unfair by weighting the face $1$ five times more than the others.\n",
    "\n",
    "- Unfair die created with proper call to weight change method (1)."
   ]
  },
  {
   "cell_type": "code",
   "execution_count": 26,
   "id": "01133a4e-6b06-4246-8d90-8e6d6995be51",
   "metadata": {
    "tags": []
   },
   "outputs": [],
   "source": [
    "dice3.weight_change(1, 5)"
   ]
  },
  {
   "cell_type": "markdown",
   "id": "f0ed31cb-0a3c-4eb2-b85e-6ed6b2eb6e58",
   "metadata": {},
   "source": [
    "Task 4. Play a game of $10000$ rolls with $5$ fair dice.\n",
    "\n",
    "- Game class properly instantiated (1). \n",
    "- Play method called properly (1)."
   ]
  },
  {
   "cell_type": "code",
   "execution_count": 27,
   "id": "e92395a4-9ed8-4cb0-8c85-38768a784ffc",
   "metadata": {
    "tags": []
   },
   "outputs": [],
   "source": [
    "dice_game1 = Game([dice1, dice1, dice1, dice1, dice1])\n",
    "dice_game1.play_game(10000)"
   ]
  },
  {
   "cell_type": "markdown",
   "id": "7814b402-46a4-40e5-8141-20e05c3e646b",
   "metadata": {},
   "source": [
    "Task 5. Play another game of $10000$ rolls, this time with $2$ unfair dice, one as defined in steps #2 and #3 respectively, and $3$ fair dice.\n",
    "\n",
    "- Game class properly instantiated (1). \n",
    "- Play method called properly (1)."
   ]
  },
  {
   "cell_type": "code",
   "execution_count": 28,
   "id": "7cd58fba-b2a5-4d5d-bc6d-2a7a68d18c4f",
   "metadata": {
    "tags": []
   },
   "outputs": [],
   "source": [
    "dice_game2 = Game([dice2, dice3, dice1, dice1, dice1])\n",
    "dice_game2.play_game(10000)"
   ]
  },
  {
   "cell_type": "markdown",
   "id": "7b6cd372-2bb8-4df8-ade1-8f48bc300955",
   "metadata": {},
   "source": [
    "Task 6. For each game, use an Analyzer object to determine the relative frequency of jackpots and show your results, comparing the two relative frequencies, in a simple bar chart.\n",
    "\n",
    "- Jackpot methods called (1).\n",
    "- Graph produced (1)."
   ]
  },
  {
   "cell_type": "code",
   "execution_count": 29,
   "id": "bbdcf695-8937-406e-9b53-aa0b9ee3c59a",
   "metadata": {
    "tags": []
   },
   "outputs": [
    {
     "name": "stdout",
     "output_type": "stream",
     "text": [
      "Game 1 Jackpot Frequency:  0.0012\n",
      "Game 2 Jackpot Frequency:  0.0008\n"
     ]
    }
   ],
   "source": [
    "# calculate frequency of jackpots for game 1 and show results\n",
    "dice_analyzer1 = Analyzer(dice_game1)\n",
    "rel_freq1 = dice_analyzer1.jackpot()/10000\n",
    "print(\"Game 1 Jackpot Frequency: \", rel_freq1)\n",
    "\n",
    "#calculate frequency of jackpots for game 2 and show results\n",
    "dice_analyzer2 = Analyzer(dice_game2)\n",
    "rel_freq2 = dice_analyzer2.jackpot()/10000\n",
    "print(\"Game 2 Jackpot Frequency: \", rel_freq2)"
   ]
  },
  {
   "cell_type": "code",
   "execution_count": 30,
   "id": "a0adb87c-5ed0-4546-89bd-bbc56adbd566",
   "metadata": {
    "tags": []
   },
   "outputs": [
    {
     "data": {
      "image/png": "[encoded data removed]",
      "text/plain": [
       "<Figure size 640x480 with 1 Axes>"
      ]
     },
     "metadata": {},
     "output_type": "display_data"
    }
   ],
   "source": [
    "#create bar chart\n",
    "plt.bar([1, 2], [rel_freq1, rel_freq2])\n",
    "plt.xticks([1, 2], ['Fair Dice', 'Unfair Dice'])\n",
    "plt.show()"
   ]
  },
  {
   "cell_type": "markdown",
   "id": "9f04e9be-8fcf-4ea4-a391-6614608285f8",
   "metadata": {},
   "source": [
    "## Scenario 3: Letters of the Alphabet (7)\n",
    "\n",
    "Task 1. Create a \"die\" of letters from $A$ to $Z$ with weights based on their frequency of usage as found in the data file `english_letters.txt`. Use the frequencies (i.e. raw counts) as weights.\n",
    "\n",
    "- Die correctly instantiated with source file data (1).\n",
    "- Weights properly applied using weight setting method (1)."
   ]
  },
  {
   "cell_type": "code",
   "execution_count": 31,
   "id": "b0ceb771-3cdf-4d8f-8c2c-020806bbb909",
   "metadata": {
    "tags": []
   },
   "outputs": [],
   "source": [
    "letters_die = Die(np.array(['A', 'B', 'C', 'D', 'E', 'F', 'G', 'H', 'I', 'J', 'K', 'L', 'M',\n",
    "                   'N', 'O', 'P', 'Q', 'R', 'S', 'T', 'U', 'V', 'W', 'X', 'Y', 'Z']))"
   ]
  },
  {
   "cell_type": "code",
   "execution_count": 32,
   "id": "d5984f25-5470-481f-bd84-9fa834e4c5d4",
   "metadata": {
    "tags": []
   },
   "outputs": [],
   "source": [
    "#read in letter frequency and adjust weights of die\n",
    "letters_frequency = pd.read_table('english_letters.txt', sep=' ', header=None)\n",
    "for i in range(26):\n",
    "    letter = letters_frequency.iloc[i][0]\n",
    "    weight = letters_frequency.iloc[i][1]\n",
    "    letters_die.weight_change(letter, weight)"
   ]
  },
  {
   "cell_type": "code",
   "execution_count": 33,
   "id": "bdd6c49f-890a-431d-a1bc-646515d04da6",
   "metadata": {
    "tags": []
   },
   "outputs": [
    {
     "data": {
      "text/html": [
       "<div>\n",
       "<style scoped>\n",
       "    .dataframe tbody tr th:only-of-type {\n",
       "        vertical-align: middle;\n",
       "    }\n",
       "\n",
       "    .dataframe tbody tr th {\n",
       "        vertical-align: top;\n",
       "    }\n",
       "\n",
       "    .dataframe thead th {\n",
       "        text-align: right;\n",
       "    }\n",
       "</style>\n",
       "<table border=\"1\" class=\"dataframe\">\n",
       "  <thead>\n",
       "    <tr style=\"text-align: right;\">\n",
       "      <th></th>\n",
       "      <th>0</th>\n",
       "    </tr>\n",
       "  </thead>\n",
       "  <tbody>\n",
       "    <tr>\n",
       "      <th>A</th>\n",
       "      <td>374061888.0</td>\n",
       "    </tr>\n",
       "    <tr>\n",
       "      <th>B</th>\n",
       "      <td>70195826.0</td>\n",
       "    </tr>\n",
       "    <tr>\n",
       "      <th>C</th>\n",
       "      <td>138416451.0</td>\n",
       "    </tr>\n",
       "    <tr>\n",
       "      <th>D</th>\n",
       "      <td>169330528.0</td>\n",
       "    </tr>\n",
       "    <tr>\n",
       "      <th>E</th>\n",
       "      <td>529117365.0</td>\n",
       "    </tr>\n",
       "    <tr>\n",
       "      <th>F</th>\n",
       "      <td>95422055.0</td>\n",
       "    </tr>\n",
       "    <tr>\n",
       "      <th>G</th>\n",
       "      <td>91258980.0</td>\n",
       "    </tr>\n",
       "    <tr>\n",
       "      <th>H</th>\n",
       "      <td>216768975.0</td>\n",
       "    </tr>\n",
       "    <tr>\n",
       "      <th>I</th>\n",
       "      <td>320410057.0</td>\n",
       "    </tr>\n",
       "    <tr>\n",
       "      <th>J</th>\n",
       "      <td>9613410.0</td>\n",
       "    </tr>\n",
       "    <tr>\n",
       "      <th>K</th>\n",
       "      <td>35373464.0</td>\n",
       "    </tr>\n",
       "    <tr>\n",
       "      <th>L</th>\n",
       "      <td>183996130.0</td>\n",
       "    </tr>\n",
       "    <tr>\n",
       "      <th>M</th>\n",
       "      <td>110504544.0</td>\n",
       "    </tr>\n",
       "    <tr>\n",
       "      <th>N</th>\n",
       "      <td>313720540.0</td>\n",
       "    </tr>\n",
       "    <tr>\n",
       "      <th>O</th>\n",
       "      <td>326627740.0</td>\n",
       "    </tr>\n",
       "    <tr>\n",
       "      <th>P</th>\n",
       "      <td>90376747.0</td>\n",
       "    </tr>\n",
       "    <tr>\n",
       "      <th>Q</th>\n",
       "      <td>4550166.0</td>\n",
       "    </tr>\n",
       "    <tr>\n",
       "      <th>R</th>\n",
       "      <td>277000841.0</td>\n",
       "    </tr>\n",
       "    <tr>\n",
       "      <th>S</th>\n",
       "      <td>294300210.0</td>\n",
       "    </tr>\n",
       "    <tr>\n",
       "      <th>T</th>\n",
       "      <td>390965105.0</td>\n",
       "    </tr>\n",
       "    <tr>\n",
       "      <th>U</th>\n",
       "      <td>117295780.0</td>\n",
       "    </tr>\n",
       "    <tr>\n",
       "      <th>V</th>\n",
       "      <td>46337161.0</td>\n",
       "    </tr>\n",
       "    <tr>\n",
       "      <th>W</th>\n",
       "      <td>79843664.0</td>\n",
       "    </tr>\n",
       "    <tr>\n",
       "      <th>X</th>\n",
       "      <td>8369915.0</td>\n",
       "    </tr>\n",
       "    <tr>\n",
       "      <th>Y</th>\n",
       "      <td>75294515.0</td>\n",
       "    </tr>\n",
       "    <tr>\n",
       "      <th>Z</th>\n",
       "      <td>4975847.0</td>\n",
       "    </tr>\n",
       "  </tbody>\n",
       "</table>\n",
       "</div>"
      ],
      "text/plain": [
       "             0\n",
       "A  374061888.0\n",
       "B   70195826.0\n",
       "C  138416451.0\n",
       "D  169330528.0\n",
       "E  529117365.0\n",
       "F   95422055.0\n",
       "G   91258980.0\n",
       "H  216768975.0\n",
       "I  320410057.0\n",
       "J    9613410.0\n",
       "K   35373464.0\n",
       "L  183996130.0\n",
       "M  110504544.0\n",
       "N  313720540.0\n",
       "O  326627740.0\n",
       "P   90376747.0\n",
       "Q    4550166.0\n",
       "R  277000841.0\n",
       "S  294300210.0\n",
       "T  390965105.0\n",
       "U  117295780.0\n",
       "V   46337161.0\n",
       "W   79843664.0\n",
       "X    8369915.0\n",
       "Y   75294515.0\n",
       "Z    4975847.0"
      ]
     },
     "execution_count": 33,
     "metadata": {},
     "output_type": "execute_result"
    }
   ],
   "source": [
    "#confirm it worked right\n",
    "letters_die.view_die()"
   ]
  },
  {
   "cell_type": "markdown",
   "id": "88e2e14a-6223-470a-a2c8-bca1120d7a5b",
   "metadata": {},
   "source": [
    "Task 2. Play a game involving $4$ of these dice with $1000$ rolls.\n",
    "\n",
    "- Game play method properly called (1)."
   ]
  },
  {
   "cell_type": "code",
   "execution_count": 34,
   "id": "2ae087cc-936d-4f1e-bddb-a7c179d139e0",
   "metadata": {
    "tags": []
   },
   "outputs": [],
   "source": [
    "letters_game = Game([letters_die, letters_die, letters_die, letters_die])\n",
    "letters_game.play_game(1000)"
   ]
  },
  {
   "cell_type": "markdown",
   "id": "3b9ff800-bf1f-4f66-9d7f-ff57a648e9f0",
   "metadata": {},
   "source": [
    "Task 3. Determine how many permutations in your results are actual English words, based on the vocabulary found in `scrabble_words.txt`.\n",
    "\n",
    "- Use permutation method (1).\n",
    "- Get count as difference between permutations and vocabulary (1)."
   ]
  },
  {
   "cell_type": "code",
   "execution_count": 35,
   "id": "ed1c7fa0-cfa3-4cf4-9fd0-9f84b86b0f64",
   "metadata": {
    "tags": []
   },
   "outputs": [],
   "source": [
    "letters_analyzer = Analyzer(letters_game)\n",
    "perm_df = letters_analyzer.permutation_count()\n",
    "#remove rows with count of zero\n",
    "perm_df = perm_df[perm_df['Count'] > 0]"
   ]
  },
  {
   "cell_type": "code",
   "execution_count": 36,
   "id": "def2ad59-7238-44a4-8499-e321229b2f91",
   "metadata": {
    "tags": []
   },
   "outputs": [],
   "source": [
    "#bring in scrabble words\n",
    "scrabble_words = pd.read_table('scrabble_words.txt', header=None)"
   ]
  },
  {
   "cell_type": "code",
   "execution_count": 37,
   "id": "297a8491-8545-4728-8888-cf8171135cc0",
   "metadata": {
    "tags": []
   },
   "outputs": [],
   "source": [
    "#turn it into a list for ease of use\n",
    "words_list = scrabble_words[0].tolist()"
   ]
  },
  {
   "cell_type": "code",
   "execution_count": 38,
   "id": "89fda2e6-ee7f-49df-b4c9-a2ecce9bb94c",
   "metadata": {
    "tags": []
   },
   "outputs": [
    {
     "name": "stdout",
     "output_type": "stream",
     "text": [
      "There are 880 permutations.\n",
      "There are 44 real words.\n"
     ]
    }
   ],
   "source": [
    "#set initial count to zero\n",
    "real_words = 0\n",
    "\n",
    "#iterate through the rows and indices but only need indices\n",
    "for index, row in perm_df.iterrows():\n",
    "    #remove special character from permutation to turn into a word\n",
    "    word = index.replace('[', '').replace(']', '').replace(', ', '').replace(\"'\", '')\n",
    "    #check if word is in scrabble dictionary\n",
    "    if word in words_list:\n",
    "        real_words += 1\n",
    "\n",
    "print(\"There are \" + str(len(perm_df)) + \" permutations.\")\n",
    "print(\"There are \" + str(real_words) + \" real words.\")"
   ]
  },
  {
   "cell_type": "markdown",
   "id": "fcf068cf-381a-4b3e-ac3a-0510eb4dbdb0",
   "metadata": {},
   "source": [
    "Task 4. Repeat steps #2 and #3, this time with $5$ dice. How many actual words does this produce? Which produces more?\n",
    "\n",
    "- Successfully repreats steps (1).\n",
    "- Identifies parameter with most found words (1)."
   ]
  },
  {
   "cell_type": "code",
   "execution_count": 39,
   "id": "e3198f94-635b-4304-88e9-bfcea5d0cf5a",
   "metadata": {
    "tags": []
   },
   "outputs": [],
   "source": [
    "#repeat with 5 dice\n",
    "letters_game2 = Game([letters_die, letters_die, letters_die, letters_die, letters_die])\n",
    "letters_game2.play_game(1000)"
   ]
  },
  {
   "cell_type": "code",
   "execution_count": 40,
   "id": "a96090fc-8c58-48bf-b6d1-17bb6d3f3918",
   "metadata": {
    "tags": []
   },
   "outputs": [],
   "source": [
    "letters_analyzer2 = Analyzer(letters_game2)\n",
    "perm_df2 = letters_analyzer2.permutation_count()\n",
    "perm_df2 = perm_df2[perm_df2['Count'] > 0]"
   ]
  },
  {
   "cell_type": "code",
   "execution_count": 41,
   "id": "2a185523-2dfc-4d39-bfe0-5f59beb6d155",
   "metadata": {
    "tags": []
   },
   "outputs": [
    {
     "name": "stdout",
     "output_type": "stream",
     "text": [
      "There are 959 permutations.\n",
      "There are 4 real words.\n"
     ]
    }
   ],
   "source": [
    "#set initial count to zero\n",
    "real_words = 0\n",
    "\n",
    "#iterate through the rows and indices but only need indices\n",
    "for index, row in perm_df2.iterrows():\n",
    "    #remove special character from permutation to turn into a word\n",
    "    word = index.replace('[', '').replace(']', '').replace(', ', '').replace(\"'\", '')\n",
    "    #check if word is in scrabble dictionary\n",
    "    if word in words_list:\n",
    "        real_words += 1\n",
    "\n",
    "print(\"There are \" + str(len(perm_df2)) + \" permutations.\")\n",
    "print(\"There are \" + str(real_words) + \" real words.\")"
   ]
  },
  {
   "cell_type": "markdown",
   "id": "ab660dc3-b45c-4293-af35-5e5c6b0ed315",
   "metadata": {},
   "source": [
    "**Conclusion**: \n",
    "Using 4 dice results in more real words.\n",
    "<br>\n"
   ]
  },
  {
   "cell_type": "markdown",
   "id": "c278a60d-a4dd-48df-8317-650185f7f0ca",
   "metadata": {},
   "source": [
    "# Submission"
   ]
  },
  {
   "cell_type": "markdown",
   "id": "a2b34ea0-96d3-4e0a-ac65-00a1cf287008",
   "metadata": {},
   "source": [
    "When finished completing the above tasks, save this file to your local repo (and within your project), and them push it to your GitHub repo.\n",
    "\n",
    "Then convert this file to a PDF and submit it to GradeScope according to the assignment instructions in Canvas."
   ]
  }
 ],
 "metadata": {
  "kernelspec": {
   "display_name": "Python 3 (ipykernel)",
   "language": "python",
   "name": "python3"
  },
  "language_info": {
   "codemirror_mode": {
    "name": "ipython",
    "version": 3
   },
   "file_extension": ".py",
   "mimetype": "text/x-python",
   "name": "python",
   "nbconvert_exporter": "python",
   "pygments_lexer": "ipython3",
   "version": "3.11.4"
  },
  "toc-autonumbering": true,
  "widgets": {
   "application/vnd.jupyter.widget-state+json": {
    "state": {},
    "version_major": 2,
    "version_minor": 0
   }
  }
 },
 "nbformat": 4,
 "nbformat_minor": 5
}
